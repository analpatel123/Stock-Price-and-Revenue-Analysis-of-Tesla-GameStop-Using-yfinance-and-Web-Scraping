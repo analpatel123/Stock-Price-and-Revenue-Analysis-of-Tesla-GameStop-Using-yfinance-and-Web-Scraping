{
 "cells": [
  {
   "cell_type": "code",
   "execution_count": null,
   "id": "ae9aaeef",
   "metadata": {},
   "outputs": [],
   "source": [
    "# Question 1: Extracting Tesla Stock Data Using yfinance\n",
    "\n",
    "import yfinance as yf\n",
    "import pandas as pd\n",
    "\n",
    "# Download Tesla stock data\n",
    "tesla = yf.Ticker(\"TSLA\")\n",
    "tesla_data = tesla.history(period=\"max\")\n",
    "\n",
    "# Display first few rows\n",
    "print(tesla_data.head())\n",
    "    "
   ]
  },
  {
   "cell_type": "code",
   "execution_count": null,
   "id": "b0f3df6d",
   "metadata": {},
   "outputs": [],
   "source": [
    "# Question 2: Extracting Tesla Revenue Data Using Web Scraping \n",
    "import requests\n",
    "from bs4 import BeautifulSoup\n",
    "\n",
    "# URL to scrape Tesla revenue data (Example)\n",
    "url = \"https://www.macrotrends.net/stocks/charts/TSLA/tesla/revenue\"\n",
    "response = requests.get(url)\n",
    "soup = BeautifulSoup(response.text, 'html.parser')\n",
    "\n",
    "# Extract revenue data\n",
    "tables = soup.find_all(\"table\")\n",
    "print(tables)  # Identify the correct table"
   ]
  },
  {
   "cell_type": "code",
   "execution_count": null,
   "id": "39fedb88",
   "metadata": {},
   "outputs": [],
   "source": [
    "# Question 3: Extracting GameStop Stock Data Using yfinance \n",
    "gamestop = yf.Ticker(\"GME\")\n",
    "gamestop_data = gamestop.history(period=\"max\")\n",
    "\n",
    "# Display first few rows\n",
    "print(gamestop_data.head())\n"
   ]
  },
  {
   "cell_type": "code",
   "execution_count": null,
   "id": "08b21fb3",
   "metadata": {},
   "outputs": [],
   "source": [
    "# Question 4: Extracting GameStop Revenue Data Using Web Scraping \n",
    "url_gme = \"https://www.macrotrends.net/stocks/charts/GME/gamestop/revenue\"\n",
    "response_gme = requests.get(url_gme)\n",
    "soup_gme = BeautifulSoup(response_gme.text, 'html.parser')\n",
    "\n",
    "# Extract revenue data\n",
    "tables_gme = soup_gme.find_all(\"table\")\n",
    "print(tables_gme)"
   ]
  },
  {
   "cell_type": "code",
   "execution_count": null,
   "id": "8fd35d7c",
   "metadata": {},
   "outputs": [],
   "source": [
    "#  Question 5 & 6: Create Dashboards for Tesla & GameStop \n",
    "import matplotlib.pyplot as plt\n",
    "\n",
    "# Plot Tesla Stock Price\n",
    "plt.figure(figsize=(10,5))\n",
    "plt.plot(tesla_data.index, tesla_data[\"Close\"], label=\"Tesla Stock Price\")\n",
    "plt.title(\"Tesla Stock Price Over Time\")\n",
    "plt.xlabel(\"Date\")\n",
    "plt.ylabel(\"Stock Price\")\n",
    "plt.legend()\n",
    "plt.show()"
   ]
  },
  {
   "cell_type": "code",
   "execution_count": null,
   "id": "5cc203f0",
   "metadata": {},
   "outputs": [],
   "source": []
  }
 ],
 "metadata": {
  "kernelspec": {
   "display_name": "Python 3 (ipykernel)",
   "language": "python",
   "name": "python3"
  },
  "language_info": {
   "codemirror_mode": {
    "name": "ipython",
    "version": 3
   },
   "file_extension": ".py",
   "mimetype": "text/x-python",
   "name": "python",
   "nbconvert_exporter": "python",
   "pygments_lexer": "ipython3",
   "version": "3.7.9"
  }
 },
 "nbformat": 4,
 "nbformat_minor": 5
}
